{
 "cells": [
  {
   "cell_type": "markdown",
   "metadata": {},
   "source": [
    "## Ambiente limitado\n",
    "\n",
    "Este notebook inicia os testes para processamento da grid e arquivos de imagem em um ambiente com limite de memória."
   ]
  },
  {
   "cell_type": "markdown",
   "metadata": {},
   "source": [
    "A ideia é fazer um teste simples, por exemplo, como processar uma imagem ou um grid com cerca de **10mb** de memória, sendo que o ambiente dispõe apenas de **1mb** ou menos."
   ]
  },
  {
   "cell_type": "markdown",
   "metadata": {},
   "source": [
    "Desta forma será testada a viabilidade de processar um largo volume de informações, utilizando de _streaming_ de arquivos e arquivos temporários."
   ]
  },
  {
   "cell_type": "code",
   "execution_count": 20,
   "metadata": {},
   "outputs": [],
   "source": [
    "## carregando as dependências\n",
    "import resource\n",
    "\n",
    "# o numpy será usado para testar os limites do ambiente\n",
    "import numpy as np\n",
    "\n",
    "# recursos para \n",
    "import os\n",
    "import psutil"
   ]
  },
  {
   "cell_type": "code",
   "execution_count": 21,
   "metadata": {},
   "outputs": [
    {
     "name": "stdout",
     "output_type": "stream",
     "text": [
      "Soft limit starts as  : 1073741824\n",
      "Soft limit changed to : 1073741824\n"
     ]
    }
   ],
   "source": [
    "# definindo um limite de memória\n",
    "rsrc = resource.RLIMIT_DATA\n",
    "soft, hard = resource.getrlimit(rsrc)\n",
    "print ('Soft limit starts as  :', soft)\n",
    "\n",
    "kb = 1024 # 1kb\n",
    "mb = 1024 * kb\n",
    "gb = 1024 * mb\n",
    "\n",
    "resource.setrlimit(rsrc, (gb * 1, hard))\n",
    "\n",
    "soft, hard = resource.getrlimit(rsrc)\n",
    "print ('Soft limit changed to :', soft)"
   ]
  },
  {
   "cell_type": "code",
   "execution_count": 36,
   "metadata": {},
   "outputs": [],
   "source": [
    "# testando a utilização atual\n",
    "def retornarConsumoAtual( escala = 'mb' ):\n",
    "    process = psutil.Process(os.getpid())\n",
    "    \n",
    "    kb = 1024 # 1kb\n",
    "    mb = 1024 * kb\n",
    "    gb = 1024 * mb\n",
    "\n",
    "    proporcao = kb\n",
    "    \n",
    "    if(escala == 'mb'):\n",
    "        proporcao = mb\n",
    "    elif ( escala == 'gb' ):\n",
    "        proporcao = gb\n",
    "    \n",
    "    return process.memory_info().rss / proporcao"
   ]
  },
  {
   "cell_type": "code",
   "execution_count": 38,
   "metadata": {},
   "outputs": [],
   "source": [
    "# variável que armazena o consumo de memória\n",
    "# para montar um gráfico depois\n",
    "consumoMemoria = list()\n",
    "\n",
    "# pegando atual\n",
    "consumoMemoria.append( retornarConsumoAtual() )"
   ]
  },
  {
   "cell_type": "code",
   "execution_count": null,
   "metadata": {},
   "outputs": [],
   "source": []
  }
 ],
 "metadata": {
  "kernelspec": {
   "display_name": "Python3 - Estudos Processamento imagem CV2 (Galaxy)",
   "language": "python",
   "name": "env"
  },
  "language_info": {
   "codemirror_mode": {
    "name": "ipython",
    "version": 3
   },
   "file_extension": ".py",
   "mimetype": "text/x-python",
   "name": "python",
   "nbconvert_exporter": "python",
   "pygments_lexer": "ipython3",
   "version": "3.6.5"
  }
 },
 "nbformat": 4,
 "nbformat_minor": 2
}
