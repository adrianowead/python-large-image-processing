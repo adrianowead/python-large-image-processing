{
 "cells": [
  {
   "cell_type": "markdown",
   "metadata": {},
   "source": [
    "# Criando uma imagem com brilho, usando OpenCV"
   ]
  },
  {
   "cell_type": "markdown",
   "metadata": {},
   "source": [
    "Testando a criação de uma imagem que contém uma esfera e ela \"emite\" uma luz como brilho."
   ]
  },
  {
   "cell_type": "code",
   "execution_count": 631,
   "metadata": {},
   "outputs": [],
   "source": [
    "import cv2\n",
    "import numpy as np\n",
    "from matplotlib import pyplot as plt"
   ]
  },
  {
   "cell_type": "code",
   "execution_count": 632,
   "metadata": {},
   "outputs": [
    {
     "data": {
      "text/plain": [
       "<matplotlib.image.AxesImage at 0x7f18bed5aba8>"
      ]
     },
     "execution_count": 632,
     "metadata": {},
     "output_type": "execute_result"
    },
    {
     "data": {
      "image/png": "[encoded data removed]",
      "text/plain": [
       "<Figure size 432x288 with 1 Axes>"
      ]
     },
     "metadata": {},
     "output_type": "display_data"
    }
   ],
   "source": [
    "imgWidth, imgHeight = (500, 500)\n",
    "canais = 4\n",
    "\n",
    "img = np.zeros(\n",
    "    [imgWidth,imgHeight,canais], # conjuntos (y), com subconjuntos(x) com quatro valores cada um (RGBA  => BGRA)\n",
    "    dtype=np.uint8 # do tipo uint8\n",
    ")\n",
    "img[:] = 0 # preenche todas as posicoes de todos os arrays com o valor 0\n",
    "#img[:,:,3] = 0 # preenche a ultima posicao dos arrays internos com o valor 0 (transparencia)\n",
    "# img\n",
    "plt.imshow(img)"
   ]
  },
  {
   "cell_type": "code",
   "execution_count": 633,
   "metadata": {},
   "outputs": [
    {
     "name": "stdout",
     "output_type": "stream",
     "text": [
      "[[[0 0 0 0]\n",
      "  [0 0 0 0]\n",
      "  [0 0 0 0]\n",
      "  ...\n",
      "  [0 0 0 0]\n",
      "  [0 0 0 0]\n",
      "  [0 0 0 0]]\n",
      "\n",
      " [[0 0 0 0]\n",
      "  [0 0 0 0]\n",
      "  [0 0 0 0]\n",
      "  ...\n",
      "  [0 0 0 0]\n",
      "  [0 0 0 0]\n",
      "  [0 0 0 0]]\n",
      "\n",
      " [[0 0 0 0]\n",
      "  [0 0 0 0]\n",
      "  [0 0 0 0]\n",
      "  ...\n",
      "  [0 0 0 0]\n",
      "  [0 0 0 0]\n",
      "  [0 0 0 0]]\n",
      "\n",
      " ...\n",
      "\n",
      " [[0 0 0 0]\n",
      "  [0 0 0 0]\n",
      "  [0 0 0 0]\n",
      "  ...\n",
      "  [0 0 0 0]\n",
      "  [0 0 0 0]\n",
      "  [0 0 0 0]]\n",
      "\n",
      " [[0 0 0 0]\n",
      "  [0 0 0 0]\n",
      "  [0 0 0 0]\n",
      "  ...\n",
      "  [0 0 0 0]\n",
      "  [0 0 0 0]\n",
      "  [0 0 0 0]]\n",
      "\n",
      " [[0 0 0 0]\n",
      "  [0 0 0 0]\n",
      "  [0 0 0 0]\n",
      "  ...\n",
      "  [0 0 0 0]\n",
      "  [0 0 0 0]\n",
      "  [0 0 0 0]]]\n"
     ]
    }
   ],
   "source": [
    "print(img)"
   ]
  },
  {
   "cell_type": "markdown",
   "metadata": {},
   "source": [
    "salvando arquivo de teste"
   ]
  },
  {
   "cell_type": "code",
   "execution_count": 634,
   "metadata": {},
   "outputs": [
    {
     "data": {
      "text/plain": [
       "True"
      ]
     },
     "execution_count": 634,
     "metadata": {},
     "output_type": "execute_result"
    }
   ],
   "source": [
    "cv2.imwrite('imgTeste.png',img)"
   ]
  },
  {
   "cell_type": "code",
   "execution_count": 635,
   "metadata": {},
   "outputs": [],
   "source": [
    "# criando o tributo de cor para a imagem\n",
    "corBGRA = (\n",
    "        150, # valor B (azul)\n",
    "        120, # valor G (verde)\n",
    "        100, # valor R (vermelho)\n",
    "        255 # valor opacidade (entre 0 e 255)\n",
    "    )"
   ]
  },
  {
   "cell_type": "markdown",
   "metadata": {},
   "source": [
    "Agora testando a criação de um efeito radial com a mesma cor da esfera.\n",
    "Mas esta vez, será feito um looping para simular um efeito radial (gradiente)"
   ]
  },
  {
   "cell_type": "code",
   "execution_count": 636,
   "metadata": {},
   "outputs": [
    {
     "data": {
      "text/plain": [
       "<matplotlib.image.AxesImage at 0x7f18becb8c18>"
      ]
     },
     "execution_count": 636,
     "metadata": {},
     "output_type": "execute_result"
    },
    {
     "data": {
      "image/png": "[encoded data removed]",
      "text/plain": [
       "<Figure size 432x288 with 1 Axes>"
      ]
     },
     "metadata": {},
     "output_type": "display_data"
    }
   ],
   "source": [
    "def loopRadial( imagem, corBGRA, tamanhoBrilho=2, intensidade=1 ):\n",
    "    # definindo inicialmente a cor de opacidade como 0\n",
    "    corBGRA = list(corBGRA)\n",
    "    corBGRA[3] = 0; # entre 0 e 255\n",
    "    \n",
    "    # continuar daqui\n",
    "    # a ideia é fazer um for que vai apenas diminuindo o raio do circulo, ou seja\n",
    "    # como a opacidade será sempre a mesma, a sobreposição fará com que gradualmente fique opaco\n",
    "    \n",
    "    # esta função deve ser executada antes, para que o efeito fique por trás da esfera\n",
    "    raioPrincipalImagem = int( ( imgWidth * 0.25 ) * 0.5 ) # tamanho da imagem opaca\n",
    "    raioExternoBrilho = ( raioPrincipalImagem * tamanhoBrilho ) + raioPrincipalImagem\n",
    "    \n",
    "    \n",
    "    # desenhando até chegar ao centro\n",
    "    for camada in range(0,imagem[0].size):\n",
    "        \n",
    "        raioExternoBrilho = int( raioExternoBrilho - ( imagem[0].size / (imgWidth)) )\n",
    "        corBGRA[3] = corBGRA[3] + intensidade;\n",
    "        \n",
    "        if( corBGRA[3] > 255 ):\n",
    "            corBGRA[3] = 255\n",
    "        \n",
    "        if( raioExternoBrilho >= 1 ):\n",
    "            cv2.circle(\n",
    "                imagem, # imagem base\n",
    "                (int(imgWidth * 0.5), int(imgHeight * 0.5)), # centro y e centro x\n",
    "                ( raioExternoBrilho ), # raio em pixels\n",
    "                corBGRA,\n",
    "                cv2.FILLED, # tipo de linha, neste caso é totalmente preenchido\n",
    "                1 # valor negativo do thickness, indica que é para desenhar o circulo com preenchimento\n",
    "            )\n",
    "    \n",
    "    return imagem\n",
    "    \n",
    "# executando\n",
    "img = loopRadial(imagem=img, corBGRA=corBGRA, tamanhoBrilho=2, intensidade=2) # o tamanho do brilho define \n",
    "                                                         # quantas vezes o tamanho da esfera\n",
    "\n",
    "# testando saida\n",
    "plt.imshow(img)"
   ]
  },
  {
   "cell_type": "markdown",
   "metadata": {},
   "source": [
    "Testando agora um incremendo na mesma imagem, adicionando um circulo"
   ]
  },
  {
   "cell_type": "code",
   "execution_count": 637,
   "metadata": {},
   "outputs": [
    {
     "data": {
      "text/plain": [
       "array([[[0, 0, 0, 0],\n",
       "        [0, 0, 0, 0],\n",
       "        [0, 0, 0, 0],\n",
       "        ...,\n",
       "        [0, 0, 0, 0],\n",
       "        [0, 0, 0, 0],\n",
       "        [0, 0, 0, 0]],\n",
       "\n",
       "       [[0, 0, 0, 0],\n",
       "        [0, 0, 0, 0],\n",
       "        [0, 0, 0, 0],\n",
       "        ...,\n",
       "        [0, 0, 0, 0],\n",
       "        [0, 0, 0, 0],\n",
       "        [0, 0, 0, 0]],\n",
       "\n",
       "       [[0, 0, 0, 0],\n",
       "        [0, 0, 0, 0],\n",
       "        [0, 0, 0, 0],\n",
       "        ...,\n",
       "        [0, 0, 0, 0],\n",
       "        [0, 0, 0, 0],\n",
       "        [0, 0, 0, 0]],\n",
       "\n",
       "       ...,\n",
       "\n",
       "       [[0, 0, 0, 0],\n",
       "        [0, 0, 0, 0],\n",
       "        [0, 0, 0, 0],\n",
       "        ...,\n",
       "        [0, 0, 0, 0],\n",
       "        [0, 0, 0, 0],\n",
       "        [0, 0, 0, 0]],\n",
       "\n",
       "       [[0, 0, 0, 0],\n",
       "        [0, 0, 0, 0],\n",
       "        [0, 0, 0, 0],\n",
       "        ...,\n",
       "        [0, 0, 0, 0],\n",
       "        [0, 0, 0, 0],\n",
       "        [0, 0, 0, 0]],\n",
       "\n",
       "       [[0, 0, 0, 0],\n",
       "        [0, 0, 0, 0],\n",
       "        [0, 0, 0, 0],\n",
       "        ...,\n",
       "        [0, 0, 0, 0],\n",
       "        [0, 0, 0, 0],\n",
       "        [0, 0, 0, 0]]], dtype=uint8)"
      ]
     },
     "execution_count": 637,
     "metadata": {},
     "output_type": "execute_result"
    }
   ],
   "source": [
    "cv2.circle(\n",
    "    img, # imagem base\n",
    "    (int(imgWidth * 0.5), int(imgHeight * 0.5)), # centro y e centro x\n",
    "    ( int( ( imgWidth * 0.25 ) * 0.5 ) ), # raio em pixels\n",
    "    corBGRA,\n",
    "    cv2.FILLED, # tipo de linha, neste caso é totalmente preenchido\n",
    "    1 # valor negativo do thickness, indica que é para desenhar o circulo com preenchimento\n",
    ")"
   ]
  },
  {
   "cell_type": "code",
   "execution_count": 638,
   "metadata": {},
   "outputs": [
    {
     "data": {
      "text/plain": [
       "True"
      ]
     },
     "execution_count": 638,
     "metadata": {},
     "output_type": "execute_result"
    }
   ],
   "source": [
    "cv2.imwrite('imgTeste.png',img)"
   ]
  },
  {
   "cell_type": "code",
   "execution_count": 639,
   "metadata": {},
   "outputs": [
    {
     "data": {
      "text/plain": [
       "<matplotlib.image.AxesImage at 0x7f18bec88ba8>"
      ]
     },
     "execution_count": 639,
     "metadata": {},
     "output_type": "execute_result"
    },
    {
     "data": {
      "image/png": "[encoded data removed]",
      "text/plain": [
       "<Figure size 432x288 with 1 Axes>"
      ]
     },
     "metadata": {},
     "output_type": "display_data"
    }
   ],
   "source": [
    "plt.imshow(img)"
   ]
  },
  {
   "cell_type": "markdown",
   "metadata": {},
   "source": [
    "Pegando a imagem e aplicando uma matriz mametática kernel de suavização \"smooth\", que é o mesmo que um blur"
   ]
  },
  {
   "cell_type": "code",
   "execution_count": 640,
   "metadata": {},
   "outputs": [
    {
     "data": {
      "text/plain": [
       "array([[0.04, 0.04, 0.04, 0.04, 0.04],\n",
       "       [0.04, 0.04, 0.04, 0.04, 0.04],\n",
       "       [0.04, 0.04, 0.04, 0.04, 0.04],\n",
       "       [0.04, 0.04, 0.04, 0.04, 0.04],\n",
       "       [0.04, 0.04, 0.04, 0.04, 0.04]], dtype=float32)"
      ]
     },
     "execution_count": 640,
     "metadata": {},
     "output_type": "execute_result"
    }
   ],
   "source": [
    "kernel = np.ones((5,5), np.float32)/25\n",
    "#img = cv2.filter2D(img,-1,kernel)\n",
    "\n",
    "kernel"
   ]
  },
  {
   "cell_type": "code",
   "execution_count": 641,
   "metadata": {},
   "outputs": [
    {
     "data": {
      "text/plain": [
       "<matplotlib.image.AxesImage at 0x7f18bec606d8>"
      ]
     },
     "execution_count": 641,
     "metadata": {},
     "output_type": "execute_result"
    },
    {
     "data": {
      "image/png": "[encoded data removed]",
      "text/plain": [
       "<Figure size 432x288 with 1 Axes>"
      ]
     },
     "metadata": {},
     "output_type": "display_data"
    }
   ],
   "source": [
    "cv2.imwrite('imgTeste.png', img)\n",
    "plt.imshow(img)"
   ]
  },
  {
   "cell_type": "code",
   "execution_count": null,
   "metadata": {},
   "outputs": [],
   "source": []
  }
 ],
 "metadata": {
  "kernelspec": {
   "display_name": "Python3 - Estudos Processamento imagem CV2 (Galaxy)",
   "language": "python",
   "name": "env"
  },
  "language_info": {
   "codemirror_mode": {
    "name": "ipython",
    "version": 3
   },
   "file_extension": ".py",
   "mimetype": "text/x-python",
   "name": "python",
   "nbconvert_exporter": "python",
   "pygments_lexer": "ipython3",
   "version": "3.6.5"
  }
 },
 "nbformat": 4,
 "nbformat_minor": 2
}
