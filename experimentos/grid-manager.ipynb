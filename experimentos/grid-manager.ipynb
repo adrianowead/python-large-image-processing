{
 "cells": [
  {
   "cell_type": "markdown",
   "metadata": {},
   "source": [
    "# Experimentos com o gerenciamento de grid"
   ]
  },
  {
   "cell_type": "markdown",
   "metadata": {},
   "source": [
    "A ideia é calcular o fatiamento de uma imagem gigante, e depois localizar a posição exata em um dos quadrantes."
   ]
  },
  {
   "cell_type": "markdown",
   "metadata": {},
   "source": [
    "Com isso será possível fazer o processamento de uma imagem maior do que a memória ram disponível, dividindo ela em diversos quadrantes."
   ]
  },
  {
   "cell_type": "markdown",
   "metadata": {},
   "source": [
    "Posteriormente será estudado uma forma de unir todos os quadrantes na imagem final, mesmo que não tenha ram suficiente para montar da forma convencional."
   ]
  },
  {
   "cell_type": "code",
   "execution_count": 41,
   "metadata": {},
   "outputs": [],
   "source": [
    "import numpy as np\n",
    "import cv2\n",
    "from matplotlib import pyplot as plt\n",
    "import math\n",
    "import h5py"
   ]
  },
  {
   "cell_type": "code",
   "execution_count": 42,
   "metadata": {},
   "outputs": [
    {
     "data": {
      "text/plain": [
       "576"
      ]
     },
     "execution_count": 42,
     "metadata": {},
     "output_type": "execute_result"
    }
   ],
   "source": [
    "# simulando uma imagem gigante, mantendo um aspect ratio de 16:9\n",
    "ratio = 16 / 9\n",
    "# imgWidth = 137438953472 # teste de imagem maior do que a ram disponível\n",
    "imgWidth = 1024 # teste básico paa cálculo\n",
    "imgHeight = int(imgWidth / ratio)\n",
    "\n",
    "imgHeight"
   ]
  },
  {
   "cell_type": "code",
   "execution_count": 43,
   "metadata": {},
   "outputs": [],
   "source": [
    "# criado uma sequencia aleatória para gerar uma imagem de testes com as dimensões exatas para o teste\n",
    "# o valor 3, refere aos canais de cores BGR (azul, verde, vermelho)\n",
    "# https://docs.scipy.org/doc/numpy-1.13.0/user/basics.types.html\n",
    "# img = np.random.random([imgHeight, imgWidth, 3]) * 255 # o mesmo que uint8\n",
    "# img = img.astype(int)\n",
    "# img[:] = img.mean(axis=-1,keepdims=1) # convertendo para escala de cinza\n",
    "# img"
   ]
  },
  {
   "cell_type": "code",
   "execution_count": 44,
   "metadata": {},
   "outputs": [],
   "source": [
    "# plt.imshow(img)"
   ]
  },
  {
   "cell_type": "markdown",
   "metadata": {},
   "source": [
    "utilizando como base a imagem carregada e suas dimensões, será feita uma função para separar as partes da imagem em uma grid."
   ]
  },
  {
   "cell_type": "code",
   "execution_count": 45,
   "metadata": {
    "scrolled": false
   },
   "outputs": [
    {
     "data": {
      "text/plain": [
       "array([[   0,    0,  128,  144],\n",
       "       [ 128,    0,  256,  144],\n",
       "       [ 256,    0,  384,  144],\n",
       "       [ 384,    0,  512,  144],\n",
       "       [ 512,    0,  640,  144],\n",
       "       [ 640,    0,  768,  144],\n",
       "       [ 768,    0,  896,  144],\n",
       "       [ 896,    0, 1024,  144],\n",
       "       [   0,  144,  128,  288],\n",
       "       [ 128,  144,  256,  288],\n",
       "       [ 256,  144,  384,  288],\n",
       "       [ 384,  144,  512,  288],\n",
       "       [ 512,  144,  640,  288],\n",
       "       [ 640,  144,  768,  288],\n",
       "       [ 768,  144,  896,  288],\n",
       "       [ 896,  144, 1024,  288],\n",
       "       [   0,  288,  128,  432],\n",
       "       [ 128,  288,  256,  432],\n",
       "       [ 256,  288,  384,  432],\n",
       "       [ 384,  288,  512,  432],\n",
       "       [ 512,  288,  640,  432],\n",
       "       [ 640,  288,  768,  432],\n",
       "       [ 768,  288,  896,  432],\n",
       "       [ 896,  288, 1024,  432],\n",
       "       [   0,  432,  128,  576],\n",
       "       [ 128,  432,  256,  576],\n",
       "       [ 256,  432,  384,  576],\n",
       "       [ 384,  432,  512,  576],\n",
       "       [ 512,  432,  640,  576],\n",
       "       [ 640,  432,  768,  576],\n",
       "       [ 768,  432,  896,  576],\n",
       "       [ 896,  432, 1024,  576]])"
      ]
     },
     "execution_count": 45,
     "metadata": {},
     "output_type": "execute_result"
    }
   ],
   "source": [
    "# esta função retorna um vetor com todas as posições x e y de cada quadrante\n",
    "# utilizando como base as dimensões informadas\n",
    "def dividirEmQuadrantes( largura: int, altura: int, quadranteMinimo: int = 128 ):\n",
    "    # o quadrante mínimo não pode ser menor do que 2 pixels\n",
    "    if( quadranteMinimo < 2 ):\n",
    "        raise Exception(\"O valor do quadrante mínimo deve ser maior ou igual a 2\")\n",
    "    \n",
    "    # a largura não pode ser menor do que 2 pixels\n",
    "    if( largura < 2 ):\n",
    "        raise Exception(\"A largura mínima deve ser maior ou igual a 2\")\n",
    "    \n",
    "    # a altura mínima não pode ser menor do que 2 pixels\n",
    "    if( altura < 2 ):\n",
    "        raise Exception(\"A altura mínima deve ser maior ou igual a 2\")\n",
    "    \n",
    "    # criando a divisão mínima de largura\n",
    "    quadranteMinimoLargura = quadranteMinimo\n",
    "    \n",
    "    while largura % quadranteMinimoLargura != 0:\n",
    "        quadranteMinimoLargura = quadranteMinimoLargura + 1\n",
    "    \n",
    "    # criando a divisão mínima de altura\n",
    "    quadranteMinimoAltura = quadranteMinimo\n",
    "    \n",
    "    while altura % quadranteMinimoAltura != 0:\n",
    "        quadranteMinimoAltura = quadranteMinimoAltura + 1\n",
    "    \n",
    "    # verificando as divisões da largura\n",
    "    divisoesLargura = math.floor( largura / quadranteMinimoLargura )\n",
    "    \n",
    "    # verificando as divisões da altura\n",
    "    divisoesAltura = math.floor( altura / quadranteMinimoAltura )\n",
    "    \n",
    "    # calculando o total de divisões\n",
    "    totalDivisoes = divisoesLargura * divisoesAltura\n",
    "    \n",
    "    # montando um vetor de saida, onde cada item possui os valores de x1, y1, x2, y2\n",
    "    gridSaida = np.zeros(\n",
    "        (\n",
    "            totalDivisoes, # quantidade de itens no maior nível, neste caso são todas as divisões\n",
    "            4 # quantidade de colunas no menor vível (x1, y1, x2, y2)\n",
    "        ), \n",
    "        dtype=int\n",
    "    )\n",
    "    \n",
    "    # calculando o x e y para cada posição, percorrendo cada linha (altura) e cada coluna (largura)\n",
    "    # acessando o indice com a função que enumera as posições\n",
    "    \n",
    "    indicePrincipal = 0 # controle do indice do grid\n",
    "    \n",
    "    for indexAltura in range(0, divisoesAltura):\n",
    "        for indexLargura in range(0, divisoesLargura):\n",
    "        \n",
    "            x1 = indexLargura * quadranteMinimoLargura\n",
    "            y1 = indexAltura * quadranteMinimoAltura\n",
    "            \n",
    "            x2 = ( indexLargura + 1 ) * quadranteMinimoLargura\n",
    "            y2 = ( indexAltura + 1 ) * quadranteMinimoAltura\n",
    "            \n",
    "            gridSaida[ indicePrincipal ][0] = x1\n",
    "            gridSaida[ indicePrincipal ][1] = y1\n",
    "            gridSaida[ indicePrincipal ][2] = x2\n",
    "            gridSaida[ indicePrincipal ][3] = y2\n",
    "            \n",
    "            indicePrincipal = indicePrincipal + 1\n",
    "                \n",
    "    \n",
    "    return gridSaida\n",
    "    \n",
    "    \n",
    "    \n",
    "gridImagem = dividirEmQuadrantes(imgWidth, imgHeight, 128)\n",
    "\n",
    "gridImagem"
   ]
  },
  {
   "cell_type": "code",
   "execution_count": 52,
   "metadata": {},
   "outputs": [],
   "source": [
    "# salvando em um arquivo hdf5 para utilizar posteriormente\n",
    "hf = h5py.File(\"grid.hdf5\",\"w\")\n",
    "hf.create_dataset('dataset_1', data=gridImagem)\n",
    "hf.close()\n",
    "\n",
    "with h5py.File('grid_novo.hdf5','w') as f:\n",
    "    group = f.create_group('a_group')\n",
    "    group.create_dataset(name='matrix', data=np.zeros((10, 10)), chunks=True, compression='gzip')"
   ]
  },
  {
   "cell_type": "markdown",
   "metadata": {},
   "source": [
    "testando a saída do grid na imagem"
   ]
  },
  {
   "cell_type": "code",
   "execution_count": 37,
   "metadata": {
    "scrolled": true
   },
   "outputs": [
    {
     "data": {
      "text/plain": [
       "True"
      ]
     },
     "execution_count": 37,
     "metadata": {},
     "output_type": "execute_result"
    }
   ],
   "source": [
    "imgTesteGrid = np.zeros((imgHeight, imgWidth ,3), np.uint8)\n",
    "\n",
    "for quadrante in gridImagem:\n",
    "    cv2.rectangle(imgTesteGrid, (quadrante[0], quadrante[1]), (quadrante[2], quadrante[3]), (0, 255, 255), 1)\n",
    "    \n",
    "#plt.imshow(imgTesteGrid)\n",
    "\n",
    "# a imagem processada e salva pelo cv2 possui dpi baixo\n",
    "# porém é extremamente eficiente para grandes imagens\n",
    "# já o PIL trava ao carregar um array numpy muito grande\n",
    "# sendo assim, todo o processo será feito com cv2 e numpy, e apenas as fatias serão salvas separadamente\n",
    "# e incrementado o DPI com o PIL\n",
    "cv2.imwrite('testeGrid.png', imgTesteGrid)"
   ]
  },
  {
   "cell_type": "code",
   "execution_count": null,
   "metadata": {},
   "outputs": [],
   "source": []
  }
 ],
 "metadata": {
  "kernelspec": {
   "display_name": "Python3 - Estudos Processamento imagem CV2 (Galaxy)",
   "language": "python",
   "name": "env"
  },
  "language_info": {
   "codemirror_mode": {
    "name": "ipython",
    "version": 3
   },
   "file_extension": ".py",
   "mimetype": "text/x-python",
   "name": "python",
   "nbconvert_exporter": "python",
   "pygments_lexer": "ipython3",
   "version": "3.6.5"
  }
 },
 "nbformat": 4,
 "nbformat_minor": 2
}
